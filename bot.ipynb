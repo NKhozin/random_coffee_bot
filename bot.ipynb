{
 "cells": [
  {
   "cell_type": "code",
   "execution_count": 1,
   "id": "394f3578",
   "metadata": {},
   "outputs": [],
   "source": [
    "#-4008070275\n",
    "#\"6480820704:AAHPpE9ivuEdX_UE1-tLaEkRg3wft37Q-DI\""
   ]
  },
  {
   "cell_type": "code",
   "execution_count": 1,
   "id": "d4bf3771",
   "metadata": {},
   "outputs": [],
   "source": [
    "import telebot"
   ]
  },
  {
   "cell_type": "code",
   "execution_count": 2,
   "id": "df11f3c9",
   "metadata": {},
   "outputs": [
    {
     "name": "stderr",
     "output_type": "stream",
     "text": [
      "C:\\Users\\nkhozin\\anaconda3\\envs\\myenv\\lib\\site-packages\\telebot\\util.py:90: RuntimeWarning: coroutine 'handler_new_member' was never awaited\n",
      "  task(*args, **kwargs)\n",
      "RuntimeWarning: Enable tracemalloc to get the object allocation traceback\n"
     ]
    }
   ],
   "source": [
    "bot = telebot.TeleBot('6480820704:AAHPpE9ivuEdX_UE1-tLaEkRg3wft37Q-DI')\n",
    "\n",
    "@bot.message_handler(content_types=[\"new_chat_members\"])\n",
    "async def handler_new_member(message):\n",
    "    user_name  = message.new_chat_members.first_name\n",
    "    bot.send_message(message.chat.id, \"Добро пожаловать, {0}!\".format(user_name))\n",
    "\n",
    "bot.polling()"
   ]
  },
  {
   "cell_type": "code",
   "execution_count": null,
   "id": "8e45af26",
   "metadata": {},
   "outputs": [],
   "source": []
  },
  {
   "cell_type": "code",
   "execution_count": null,
   "id": "96046799",
   "metadata": {},
   "outputs": [],
   "source": []
  },
  {
   "cell_type": "code",
   "execution_count": 1,
   "id": "948a4d88",
   "metadata": {},
   "outputs": [],
   "source": [
    "import pickle"
   ]
  },
  {
   "cell_type": "code",
   "execution_count": 2,
   "id": "54cf7f5b",
   "metadata": {},
   "outputs": [],
   "source": [
    "current_members = []"
   ]
  },
  {
   "cell_type": "code",
   "execution_count": 3,
   "id": "c69fbb00",
   "metadata": {},
   "outputs": [],
   "source": [
    "pickle.dump(current_members, open('current_members.pkl', 'wb'))"
   ]
  },
  {
   "cell_type": "code",
   "execution_count": null,
   "id": "07ab30fa",
   "metadata": {},
   "outputs": [],
   "source": []
  },
  {
   "cell_type": "code",
   "execution_count": 4,
   "id": "300b0aa5",
   "metadata": {},
   "outputs": [],
   "source": [
    "current_members = pickle.load(open('current_members.pkl', 'rb'))"
   ]
  },
  {
   "cell_type": "code",
   "execution_count": 5,
   "id": "19a3e23b",
   "metadata": {},
   "outputs": [
    {
     "data": {
      "text/plain": [
       "[]"
      ]
     },
     "execution_count": 5,
     "metadata": {},
     "output_type": "execute_result"
    }
   ],
   "source": [
    "current_members"
   ]
  },
  {
   "cell_type": "code",
   "execution_count": 9,
   "id": "a1095171",
   "metadata": {},
   "outputs": [],
   "source": [
    "ex = 'https://t.me/nkhozin'"
   ]
  },
  {
   "cell_type": "code",
   "execution_count": 11,
   "id": "df99381b",
   "metadata": {},
   "outputs": [],
   "source": [
    "current_members.remove(ex)"
   ]
  },
  {
   "cell_type": "code",
   "execution_count": 12,
   "id": "67de9a8b",
   "metadata": {},
   "outputs": [
    {
     "data": {
      "text/plain": [
       "[]"
      ]
     },
     "execution_count": 12,
     "metadata": {},
     "output_type": "execute_result"
    }
   ],
   "source": [
    "current_members"
   ]
  },
  {
   "cell_type": "code",
   "execution_count": 24,
   "id": "bf9478c0",
   "metadata": {},
   "outputs": [],
   "source": [
    "import random"
   ]
  },
  {
   "cell_type": "code",
   "execution_count": 22,
   "id": "2daf5211",
   "metadata": {},
   "outputs": [],
   "source": [
    "current_members = pickle.load(open('current_members.pkl', 'rb'))"
   ]
  },
  {
   "cell_type": "code",
   "execution_count": 23,
   "id": "6eebd1cd",
   "metadata": {},
   "outputs": [
    {
     "data": {
      "text/plain": [
       "['<a href=\"tg://user?id=186494238\">Никита</a>',\n",
       " '<a href=\"tg://user?id=1650281428\">MARIA</a>']"
      ]
     },
     "execution_count": 23,
     "metadata": {},
     "output_type": "execute_result"
    }
   ],
   "source": [
    "current_members"
   ]
  },
  {
   "cell_type": "code",
   "execution_count": 25,
   "id": "6c414608",
   "metadata": {},
   "outputs": [
    {
     "data": {
      "text/plain": [
       "['<a href=\"tg://user?id=186494238\">Никита</a>',\n",
       " '<a href=\"tg://user?id=1650281428\">MARIA</a>']"
      ]
     },
     "execution_count": 25,
     "metadata": {},
     "output_type": "execute_result"
    }
   ],
   "source": [
    "random.sample(current_members, 2)"
   ]
  },
  {
   "cell_type": "code",
   "execution_count": null,
   "id": "3d8d6683",
   "metadata": {},
   "outputs": [],
   "source": []
  },
  {
   "cell_type": "code",
   "execution_count": null,
   "id": "9e831b46",
   "metadata": {},
   "outputs": [],
   "source": [
    "Удобное время для встречи: 17:30-18:00, 19:00-20:00"
   ]
  },
  {
   "cell_type": "code",
   "execution_count": null,
   "id": "e2880654",
   "metadata": {},
   "outputs": [],
   "source": []
  },
  {
   "cell_type": "code",
   "execution_count": 6,
   "id": "118bc1d6",
   "metadata": {},
   "outputs": [],
   "source": [
    "import re"
   ]
  },
  {
   "cell_type": "code",
   "execution_count": 9,
   "id": "a8507fb7",
   "metadata": {},
   "outputs": [
    {
     "name": "stdout",
     "output_type": "stream",
     "text": [
      "['17:30-18:00', '19:00-20:00']\n"
     ]
    }
   ],
   "source": [
    "print(re.findall(r'\\d\\d:\\d\\d-\\d\\d:\\d\\d', \n",
    "                 r'17:30-18:00, 19:00-20:00'))"
   ]
  },
  {
   "cell_type": "code",
   "execution_count": null,
   "id": "8fea78e4",
   "metadata": {},
   "outputs": [],
   "source": [
    "# async def start(update: Update, context: ContextTypes.DEFAULT_TYPE):\n",
    "#     await context.bot.send_message(chat_id=update.effective_chat.id, text=\"I'm a bot, please talk to me!\")\n",
    "\n",
    "# async def echo(update: Update, context: ContextTypes.DEFAULT_TYPE):\n",
    "#     await context.bot.send_message(chat_id=update.effective_chat.id, text=update.message.text)\n",
    "\n",
    "\n",
    "#     start_handler = CommandHandler('start', start)\n",
    "#     echo_handler = MessageHandler(filters.TEXT & (~filters.COMMAND), echo)\n",
    "#     application.add_handler(start_handler)\n",
    "#     application.add_handler(echo_handler)"
   ]
  }
 ],
 "metadata": {
  "kernelspec": {
   "display_name": "Python 3 (ipykernel)",
   "language": "python",
   "name": "python3"
  },
  "language_info": {
   "codemirror_mode": {
    "name": "ipython",
    "version": 3
   },
   "file_extension": ".py",
   "mimetype": "text/x-python",
   "name": "python",
   "nbconvert_exporter": "python",
   "pygments_lexer": "ipython3",
   "version": "3.10.11"
  }
 },
 "nbformat": 4,
 "nbformat_minor": 5
}
